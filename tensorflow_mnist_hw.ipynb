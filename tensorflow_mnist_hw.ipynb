{
 "cells": [
  {
   "cell_type": "markdown",
   "metadata": {
    "id": "b0Yf4NBJUSNM"
   },
   "source": [
    "# Создание нейронной сети\n",
    "\n",
    "В этом задании мы создадим полносвязную нейронную сеть используя при этом низкоуровневые механизмы tensorflow.\n",
    "\n",
    "Архитектутра нейросети представлена на следующем рисунке. Как видите, в ней имеется один входной слой, два скрытых, а так же выходной слой. В качестве активационной функции в скрытых слоях будет использоваться сигмоида. На выходном слое мы используем softmax.\n",
    "\n",
    "Часть кода по созданию сети уже написана, от вас требуется заполнить пропуски в указанных местах."
   ]
  },
  {
   "cell_type": "markdown",
   "metadata": {
    "id": "01rZWUu0USNQ"
   },
   "source": [
    "## Архитектура нейронной сети\n",
    "\n",
    "<img src=\"http://cs231n.github.io/assets/nn1/neural_net2.jpeg\" alt=\"nn\" style=\"width: 400px;\"/>\n"
   ]
  },
  {
   "cell_type": "markdown",
   "metadata": {
    "id": "LLvIZ705Qw_V"
   },
   "source": [
    "## О датасете MNIST\n",
    "\n",
    "Данную нейросеть мы будем обучать на датасете MNIST. Этот датасет представляет собой большое количество изображений рукописных цифр размером $28 \\times 28$ пикселей. Каждый пиксель принимает значение от 0 до 255.\n",
    "\n",
    "Как и раньше датасет будет разеделен на обучающую и тестовую выборки. При этом мы выполним нормализацию всех изображений, чтобы значения пикселей находились в промежутке от 0 до 1, разделив яркость каждого пикселя на 255.\n",
    "\n",
    "Кроме того, архитектура нейронной сети ожидает на вход вектор. В нашем же случае каждый объект выборки представляет собой матрицу. Что же делать? В этом задании мы \"растянем\" матрицу $28 \\times 28$, получив при этом вектор, состоящей из 784 элементов.\n",
    "\n",
    "![MNIST Dataset](https://www.researchgate.net/profile/Steven-Young-5/publication/306056875/figure/fig1/AS:393921575309346@1470929630835/Example-images-from-the-MNIST-dataset.png)\n",
    "\n",
    "Больше информации о датасете можно найти [здесь](http://yann.lecun.com/exdb/mnist/)."
   ]
  },
  {
   "cell_type": "code",
   "execution_count": 1,
   "metadata": {
    "id": "il_0_5OyUSNR"
   },
   "outputs": [],
   "source": [
    "import tensorflow as tf\n",
    "import numpy as np\n",
    "import matplotlib.pyplot as plt"
   ]
  },
  {
   "cell_type": "code",
   "execution_count": 2,
   "metadata": {
    "id": "cd-1_abTUSNS"
   },
   "outputs": [],
   "source": [
    "num_classes = 10 # общее количество классов, в нашем случае это цифры от 0 до 9\n",
    "num_features = 784 # количество атрибутов входного вектора 28 * 28 = 784\n",
    "\n",
    "learning_rate = 0.001 # скорость обучения нейронной сети\n",
    "training_steps = 3000 # максимальное число эпох\n",
    "batch_size = 256 # пересчитывать веса сети мы будем не на всей выборке, а на ее случайном подможестве из batch_size элементов\n",
    "display_step = 100 # каждые 100 итераций мы будем показывать текущее значение функции потерь и точности\n",
    "\n",
    "n_hidden_1 = 128 # количество нейронов 1-го слоя\n",
    "n_hidden_2 = 256 # количество нейронов 2-го слоя"
   ]
  },
  {
   "cell_type": "code",
   "execution_count": 3,
   "metadata": {
    "id": "pGTXiRyTUSNT"
   },
   "outputs": [
    {
     "name": "stdout",
     "output_type": "stream",
     "text": [
      "Downloading data from https://storage.googleapis.com/tensorflow/tf-keras-datasets/mnist.npz\n",
      "11490434/11490434 [==============================] - 1s 0us/step\n"
     ]
    }
   ],
   "source": [
    "from tensorflow.keras.datasets import mnist\n",
    "\n",
    "# Загружаем датасет\n",
    "(x_train, y_train), (x_test, y_test) = mnist.load_data()\n",
    "\n",
    "# Преобразуем целочисленные пиксели к типа float32\n",
    "x_train, x_test = np.array(x_train, np.float32), np.array(x_test, np.float32)\n",
    "\n",
    "# Преобразуем матрицы размером 28x28 пикселей в вектор из 784 элементов\n",
    "x_train, x_test = x_train.reshape([-1, num_features]), x_test.reshape([-1, num_features])\n",
    "\n",
    "# Нормализуем значения пикселей\n",
    "x_train, x_test = x_train / 255., x_test / 255.\n",
    "\n",
    "# Перемешаем тренировочные данные\n",
    "train_data = tf.data.Dataset.from_tensor_slices((x_train, y_train))\n",
    "train_data = train_data.repeat().shuffle(5000).batch(batch_size).prefetch(1)"
   ]
  },
  {
   "cell_type": "code",
   "execution_count": 4,
   "metadata": {
    "id": "FkRmCQjnUSNV"
   },
   "outputs": [],
   "source": [
    "# Создадим нейронную сеть\n",
    "\n",
    "class DenseLayer(tf.Module):\n",
    "    def __init__(self, in_features, out_features, name=None):\n",
    "        super().__init__(name=name)\n",
    "        self.w = tf.Variable(\n",
    "            tf.random.normal([in_features, out_features]), name=\"w\"\n",
    "        )\n",
    "        self.b = tf.Variable(tf.zeros([out_features]), name=\"b\")\n",
    "\n",
    "    def __call__(self, x):\n",
    "        y = tf.matmul(x, self.w) + self.b\n",
    "        return tf.nn.relu(y)\n",
    "\n",
    "\n",
    "class NN(tf.Module):\n",
    "  def __init__(self, name=None):\n",
    "    super().__init__(name=name)\n",
    "    # Первый слой, состоящий из 128 нейронов\n",
    "    self.layer_1 = DenseLayer(in_features=num_features, out_features=n_hidden_1)\n",
    "    # Второй слой, состоящий из 256 нейронов\n",
    "    self.layer_2 = DenseLayer(in_features=n_hidden_1, out_features=n_hidden_2)    \n",
    "    # Выходной слой\n",
    "    self.layer_3 = DenseLayer(in_features=n_hidden_2, out_features=num_classes)\n",
    "\n",
    "  def __call__(self, x):\n",
    "    # Место для вашего кода\n",
    "    x1 = self.layer_1(x)\n",
    "    x2 = self.layer_2(x1)\n",
    "    x3 = self.layer_3(x2)\n",
    "\n",
    "    # Помните что для выхода нейронной сети мы применяем к выходу функцию softmax. \n",
    "    # Делаем мы это для того, чтобы\n",
    "    # выход нейронной сети принимал значения от 0 до 1 в соответствии с вероятностью \n",
    "    # принадлежности входного объекта к одному из 10 классов\n",
    "\n",
    "    x = x3\n",
    "    return tf.nn.softmax(x)"
   ]
  },
  {
   "cell_type": "code",
   "execution_count": 12,
   "metadata": {
    "id": "LIf3o7VAUSNV"
   },
   "outputs": [],
   "source": [
    "# В качестве функции ошибки в данном случае удобно взять кросс-энтропию\n",
    "def cross_entropy(y_pred, y_true):\n",
    "    # Encode label to a one hot vector.\n",
    "    y_true = tf.one_hot(y_true, depth=num_classes)\n",
    "\n",
    "    # Clip prediction values to avoid log(0) error.\n",
    "    y_pred = tf.clip_by_value(y_pred, 1e-9, 1.)\n",
    "\n",
    "    # Вычисление кросс-энтропии\n",
    "    return tf.reduce_mean(-tf.reduce_sum(y_true * tf.math.log(y_pred)))\n",
    "\n",
    "# В качестве метрики качества используем точность\n",
    "def accuracy(y_pred, y_true):\n",
    "    # Место для вашего кода\n",
    "    m = tf.metrics.Accuracy()\n",
    "    m.update_state(y_true, tf.argmax(y_pred, axis=1))\n",
    "    return m.result()"
   ]
  },
  {
   "cell_type": "code",
   "execution_count": 13,
   "metadata": {
    "id": "MQeT1yatUSNW"
   },
   "outputs": [],
   "source": [
    "# Создадим экзампляр нейронной сети\n",
    "neural_net = NN(name=\"mnist\")\n",
    "\n",
    "# Функция обучения нейросети\n",
    "def train(nn, input_x, output_y):\n",
    "  # Для подгонки весов сети будем использовать стохастический градиентный спуск\n",
    "  optimizer = tf.optimizers.SGD(learning_rate)\n",
    "\n",
    "  # Активация автоматического дифференцирования\n",
    "  with tf.GradientTape() as g:\n",
    "    pred = neural_net(input_x)\n",
    "    loss = cross_entropy(pred, output_y)\n",
    "        \n",
    "    # Создадим оптимизируемых список параметров\n",
    "    variables = nn.layer_1.trainable_variables\n",
    "\n",
    "    # Вычислим по ним значение градиента\n",
    "    grad = g.gradient(loss, variables)\n",
    "    \n",
    "    # Модифицируем параметры\n",
    "    optimizer.apply_gradients(zip(grad, variables))  "
   ]
  },
  {
   "cell_type": "code",
   "execution_count": 14,
   "metadata": {
    "id": "fnyns9lBfpQZ"
   },
   "outputs": [],
   "source": [
    "# Тренировка сети\n",
    "\n",
    "loss_history = []  # каждые display_step шагов сохраняйте в этом список текущую ошибку нейросети\n",
    "accuracy_history = [] # каждые display_step шагов сохраняйте в этом список текущую точность нейросети\n",
    "\n",
    "# В этом цикле мы будем производить обучение нейронной сети\n",
    "# из тренировочного датасета train_data извлеките случайное подмножество, на котором \n",
    "# произведется тренировка. Используйте метод take, доступный для тренировочного датасета.\n",
    "training_data = train_data.take(training_steps)\n",
    "training_data = training_data.enumerate()\n",
    "for step, (batch_x, batch_y) in training_data.as_numpy_iterator():\n",
    "    # Обновляем веса нейронной сети\n",
    "    train(neural_net,batch_x, batch_y)\n",
    "    \n",
    "    if step % display_step == 0:\n",
    "        pred = neural_net(batch_x)\n",
    "        loss_history.append(cross_entropy(pred, batch_y))\n",
    "        accuracy_history.append(accuracy(pred, batch_y))"
   ]
  },
  {
   "cell_type": "code",
   "execution_count": 18,
   "metadata": {
    "id": "_yCBfG6MbQB2"
   },
   "outputs": [
    {
     "data": {
      "text/plain": [
       "[<matplotlib.lines.Line2D at 0x1de1f678bd0>]"
      ]
     },
     "execution_count": 18,
     "metadata": {},
     "output_type": "execute_result"
    },
    {
     "data": {
      "image/png": "[encoded data removed]",
      "text/plain": [
       "<Figure size 640x480 with 1 Axes>"
      ]
     },
     "metadata": {},
     "output_type": "display_data"
    }
   ],
   "source": [
    "# Выведите графики зависимости изменения точности и потерь от шага\n",
    "# Если все сделано правильно, то точность должна расти, а потери уменьшаться\n",
    "plt.plot(loss_history,c=\"#FF0000\")"
   ]
  },
  {
   "cell_type": "code",
   "execution_count": 19,
   "metadata": {},
   "outputs": [
    {
     "data": {
      "text/plain": [
       "[<matplotlib.lines.Line2D at 0x1de205d5b50>]"
      ]
     },
     "execution_count": 19,
     "metadata": {},
     "output_type": "execute_result"
    },
    {
     "data": {
      "image/png": "[encoded data removed]",
      "text/plain": [
       "<Figure size 640x480 with 1 Axes>"
      ]
     },
     "metadata": {},
     "output_type": "display_data"
    }
   ],
   "source": [
    "plt.plot(accuracy_history,c=\"#00FF00\")"
   ]
  },
  {
   "cell_type": "code",
   "execution_count": 20,
   "metadata": {
    "id": "LE3g4gDyUSNY"
   },
   "outputs": [
    {
     "name": "stdout",
     "output_type": "stream",
     "text": [
      "Accuracy: 0.741599977016449\n"
     ]
    }
   ],
   "source": [
    "# Вычислите точность обученной нейросети\n",
    "\n",
    "final_accuracy = accuracy(neural_net(x_train), y_train)\n",
    "print(f\"Accuracy: {final_accuracy}\")"
   ]
  },
  {
   "cell_type": "code",
   "execution_count": null,
   "metadata": {
    "id": "_EEHAubOUSNY"
   },
   "outputs": [],
   "source": [
    "# Протестируем обученную нейросеть на 10 изображениях. Из тестовой выборки возьмите 5 \n",
    "# случайных изображений и передайте их в нейронню сеть.\n",
    "# Выведите изображение и выпишите рядом ответ нейросети.\n",
    "# Сделайте вывод о том ошибается ли ваша нейронная сеть и если да, то как часто?\n",
    "\n",
    "# Место для вашего кода"
   ]
  }
 ],
 "metadata": {
  "accelerator": "GPU",
  "colab": {
   "name": "tensorflow_mnist_hw.ipynb",
   "provenance": []
  },
  "kernelspec": {
   "display_name": "Python 3 (ipykernel)",
   "language": "python",
   "name": "python3"
  },
  "language_info": {
   "codemirror_mode": {
    "name": "ipython",
    "version": 3
   },
   "file_extension": ".py",
   "mimetype": "text/x-python",
   "name": "python",
   "nbconvert_exporter": "python",
   "pygments_lexer": "ipython3",
   "version": "3.11.1"
  }
 },
 "nbformat": 4,
 "nbformat_minor": 4
}
